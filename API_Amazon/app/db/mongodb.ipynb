{
 "cells": [
  {
   "cell_type": "code",
   "execution_count": null,
   "id": "2cc09cc9",
   "metadata": {},
   "outputs": [],
   "source": [
    "import json\n",
    "from pymongo import MongoClient\n",
    "\n",
    "client = MongoClient(\"mongodb://localhost:27017\")\n",
    "db = client[\"mydb\"]\n",
    "collection = db[\"best\"]\n",
    "\n",
    "with open(\"../pwtest/123.json\", \"r\", encoding=\"utf-8\") as f:\n",
    "    data = json.load(f)\n",
    "\n",
    "collection.insert_many(data)\n",
    "print(\"finished\")"
   ]
  },
  {
   "cell_type": "code",
   "execution_count": null,
   "id": "6709da9b",
   "metadata": {},
   "outputs": [],
   "source": [
    "import json\n",
    "from pymongo import MongoClient\n",
    "\n",
    "client = MongoClient(\"mongodb://localhost:27017\")\n",
    "db = client[\"mydb\"]\n",
    "collection = db[\"product_master\"]\n",
    "\n",
    "def get_next_sequence(db, name):\n",
    "    ret = db.counters.find_one_and_update(\n",
    "        {\"_id\": name},\n",
    "        {\"$inc\": {\"seq\": 1}},\n",
    "        return_document=True\n",
    "    )\n",
    "    return ret[\"seq\"]\n",
    "\n",
    "with open(\"../../../amazon_crawler/data/result/199_product_master.json\", \"r\", encoding=\"utf-8\") as f:\n",
    "    data = json.load(f)\n",
    "\n",
    "for doc in data:\n",
    "    doc[\"seq\"] = get_next_sequence(db, \"productid\")\n",
    "    collection.insert_one(doc)\n",
    "\n",
    "print(\"저장 완료\")\n"
   ]
  }
 ],
 "metadata": {
  "kernelspec": {
   "display_name": "pwtest",
   "language": "python",
   "name": "python3"
  },
  "language_info": {
   "codemirror_mode": {
    "name": "ipython",
    "version": 3
   },
   "file_extension": ".py",
   "mimetype": "text/x-python",
   "name": "python",
   "nbconvert_exporter": "python",
   "pygments_lexer": "ipython3",
   "version": "3.10.18"
  }
 },
 "nbformat": 4,
 "nbformat_minor": 5
}
