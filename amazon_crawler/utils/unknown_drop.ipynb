{
 "cells": [
  {
   "cell_type": "code",
   "execution_count": 2,
   "id": "72b8e49f",
   "metadata": {},
   "outputs": [],
   "source": [
    "import json\n",
    "\n",
    "with open('../data/result/데이터 적재/원본/5001-6000.json', 'r', encoding='utf-8') as f:\n",
    "    data = json.load(f)\n",
    "\n",
    "filtered_data = [\n",
    "    item for item in data\n",
    "    if item.get(\"board_name\", \"\").lower() != \"unknown\"\n",
    "    and item.get(\"data_gbn\", \"\").upper() != \"DELETE\"\n",
    "    and item.get(\"board_name\", \"\").lower() != \"null\"\n",
    "]\n",
    "\n",
    "with open('../data/result/데이터 적재/후처리/unknown_drop_5001-6000.json', 'w', encoding='utf-8') as f:\n",
    "    json.dump(filtered_data, f, ensure_ascii=False, indent=2)"
   ]
  },
  {
   "cell_type": "code",
   "execution_count": null,
   "id": "f75afce6",
   "metadata": {},
   "outputs": [
    {
     "name": "stdout",
     "output_type": "stream",
     "text": [
      "완료! 총 3163개 항목이 1-5000.json에 저장되었습니다.\n"
     ]
    }
   ],
   "source": [
    "import json\n",
    "\n",
    "json_files = [\n",
    "    \"../data/result/데이터 적재/후처리/unknown_drop_1-1000.json\",\n",
    "    \"../data/result/데이터 적재/후처리/unknown_drop_1001-2000.json\",\n",
    "    \"../data/result/데이터 적재/후처리/unknown_drop_2001-3000.json\",\n",
    "    \"../data/result/데이터 적재/후처리/unknown_drop_3001-4000.json\",\n",
    "    \"../data/result/데이터 적재/후처리/unknown_drop_4001-5000.json\",\n",
    "]\n",
    "\n",
    "seen_asins = set()\n",
    "merged_data = []\n",
    "\n",
    "for file in json_files:\n",
    "    with open(file, 'r', encoding='utf-8') as f:\n",
    "        data = json.load(f)\n",
    "        for item in data:\n",
    "            asin = item.get(\"asin\")\n",
    "            if asin and asin not in seen_asins:\n",
    "                merged_data.append(item)\n",
    "                seen_asins.add(asin)\n",
    "\n",
    "with open('../data/result/데이터 적재/후처리/1-5000.json', 'w', encoding='utf-8') as f:\n",
    "    json.dump(merged_data, f, ensure_ascii=False, indent=4)\n",
    "\n",
    "print(f\"완료! 총 {len(merged_data)}개 항목이 1-5000.json에 저장되었습니다.\")"
   ]
  }
 ],
 "metadata": {
  "kernelspec": {
   "display_name": "test",
   "language": "python",
   "name": "python3"
  },
  "language_info": {
   "codemirror_mode": {
    "name": "ipython",
    "version": 3
   },
   "file_extension": ".py",
   "mimetype": "text/x-python",
   "name": "python",
   "nbconvert_exporter": "python",
   "pygments_lexer": "ipython3",
   "version": "3.10.16"
  }
 },
 "nbformat": 4,
 "nbformat_minor": 5
}
