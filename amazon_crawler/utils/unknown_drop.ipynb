{
 "cells": [
  {
   "cell_type": "code",
   "execution_count": null,
   "id": "72b8e49f",
   "metadata": {},
   "outputs": [],
   "source": [
    "import json\n",
    "\n",
    "with open('../data/result/데이터 적재/원본/1-1000.json', 'r', encoding='utf-8') as f:\n",
    "    data = json.load(f)\n",
    "\n",
    "filtered_data = [\n",
    "    item for item in data\n",
    "    if item.get(\"board_name\", \"\").lower() != \"unknown\"\n",
    "    and item.get(\"data_gbn\", \"\").upper() != \"DELETE\"\n",
    "    and item.get(\"board_name\", \"\").lower() != \"null\"\n",
    "    ]\n",
    "\n",
    "with open('../data/result/데이터 적재/후처리/unknown_drop_1-1000.json', 'w', encoding='utf-8') as f:\n",
    "    json.dump(filtered_data, f, ensure_ascii=False, indent=2)"
   ]
  }
 ],
 "metadata": {
  "kernelspec": {
   "display_name": "test",
   "language": "python",
   "name": "python3"
  },
  "language_info": {
   "name": "python",
   "version": "3.10.16"
  }
 },
 "nbformat": 4,
 "nbformat_minor": 5
}
